{
 "cells": [
  {
   "cell_type": "markdown",
   "metadata": {},
   "source": [
    "# Introduction to Python\n",
    "\n",
    "basic commands"
   ]
  },
  {
   "cell_type": "code",
   "execution_count": 25,
   "metadata": {},
   "outputs": [],
   "source": [
    "import math \n",
    "import numpy as np"
   ]
  },
  {
   "cell_type": "markdown",
   "metadata": {},
   "source": [
    "Newton's second law goes like \n",
    "  $\\vec F = m\\vec a = m\\frac{d\\vec v}{dt}$"
   ]
  },
  {
   "cell_type": "code",
   "execution_count": 26,
   "metadata": {},
   "outputs": [],
   "source": [
    "x += x\n"
   ]
  },
  {
   "cell_type": "code",
   "execution_count": 27,
   "metadata": {},
   "outputs": [
    {
     "name": "stdout",
     "output_type": "stream",
     "text": [
      "14\n"
     ]
    }
   ],
   "source": [
    "print(x)"
   ]
  },
  {
   "cell_type": "code",
   "execution_count": 28,
   "metadata": {},
   "outputs": [],
   "source": [
    "x += 3"
   ]
  },
  {
   "cell_type": "code",
   "execution_count": 29,
   "metadata": {},
   "outputs": [
    {
     "name": "stdout",
     "output_type": "stream",
     "text": [
      "17\n"
     ]
    }
   ],
   "source": [
    "print(x)"
   ]
  },
  {
   "cell_type": "code",
   "execution_count": 30,
   "metadata": {},
   "outputs": [
    {
     "name": "stdout",
     "output_type": "stream",
     "text": [
      "Force equals 200 N\n"
     ]
    }
   ],
   "source": [
    "m = 20 # in kg\n",
    "a = 10 # in m/s^2\n",
    "\n",
    "F = m*a\n",
    "\n",
    "print(\"Force equals\", F,\"N\")"
   ]
  },
  {
   "cell_type": "code",
   "execution_count": 31,
   "metadata": {},
   "outputs": [
    {
     "name": "stdout",
     "output_type": "stream",
     "text": [
      "Hello and Welcome\n"
     ]
    }
   ],
   "source": [
    "a=\"Hello\"\n",
    "b=\" and Welcome\"\n",
    "\n",
    "print(a+b)"
   ]
  },
  {
   "cell_type": "code",
   "execution_count": 32,
   "metadata": {},
   "outputs": [
    {
     "name": "stdout",
     "output_type": "stream",
     "text": [
      "Hello and Welcome 3\n"
     ]
    }
   ],
   "source": [
    "c= \" 3\"\n",
    "print(a+b+c)"
   ]
  },
  {
   "cell_type": "code",
   "execution_count": 33,
   "metadata": {},
   "outputs": [
    {
     "name": "stdout",
     "output_type": "stream",
     "text": [
      "HelloHelloHello\n"
     ]
    }
   ],
   "source": [
    "print(3*a)"
   ]
  },
  {
   "cell_type": "code",
   "execution_count": 34,
   "metadata": {},
   "outputs": [
    {
     "name": "stdout",
     "output_type": "stream",
     "text": [
      "10.0\n"
     ]
    }
   ],
   "source": [
    "print(F/m)"
   ]
  },
  {
   "cell_type": "code",
   "execution_count": 35,
   "metadata": {},
   "outputs": [
    {
     "name": "stdout",
     "output_type": "stream",
     "text": [
      "10\n"
     ]
    }
   ],
   "source": [
    "print(F//m)"
   ]
  },
  {
   "cell_type": "code",
   "execution_count": 36,
   "metadata": {},
   "outputs": [
    {
     "name": "stdout",
     "output_type": "stream",
     "text": [
      "1.5\n"
     ]
    }
   ],
   "source": [
    "print(3/2)"
   ]
  },
  {
   "cell_type": "code",
   "execution_count": 37,
   "metadata": {},
   "outputs": [
    {
     "name": "stdout",
     "output_type": "stream",
     "text": [
      "1\n"
     ]
    }
   ],
   "source": [
    "print(3//2)"
   ]
  },
  {
   "cell_type": "code",
   "execution_count": 40,
   "metadata": {},
   "outputs": [
    {
     "name": "stdout",
     "output_type": "stream",
     "text": [
      "6.283185307179586\n"
     ]
    }
   ],
   "source": [
    "print(2*math.pi)"
   ]
  },
  {
   "cell_type": "code",
   "execution_count": 49,
   "metadata": {},
   "outputs": [
    {
     "name": "stdout",
     "output_type": "stream",
     "text": [
      "Enter the mass (in kg)5\n"
     ]
    }
   ],
   "source": [
    "m= float(input(\"Enter the mass (in kg)\"))"
   ]
  },
  {
   "cell_type": "code",
   "execution_count": 50,
   "metadata": {},
   "outputs": [
    {
     "name": "stdout",
     "output_type": "stream",
     "text": [
      "Enter the accelration (in m/s^2)5\n"
     ]
    }
   ],
   "source": [
    "a= float(input(\"Enter the accelration (in m/s^2)\"))"
   ]
  },
  {
   "cell_type": "code",
   "execution_count": 51,
   "metadata": {},
   "outputs": [
    {
     "name": "stdout",
     "output_type": "stream",
     "text": [
      "the force equals to 25.0\n"
     ]
    }
   ],
   "source": [
    "print(\"the force equals to\", float(m*a))"
   ]
  },
  {
   "cell_type": "markdown",
   "metadata": {},
   "source": [
    "# Converting temperature scales\n",
    "\n",
    " from celsius to Fahrenheit $F=\\frac{9}{5} \\times C + 32$\n",
    "    from Fahrenheit to Celsius $C=\\frac{5}{9} \\times (C - 32)$"
   ]
  },
  {
   "cell_type": "code",
   "execution_count": 54,
   "metadata": {},
   "outputs": [
    {
     "name": "stdout",
     "output_type": "stream",
     "text": [
      "The temeperature today is (in degree Fahrenheit) 72\n",
      "The temeperature today is (in degree Celsius)  22.22222222222222\n"
     ]
    }
   ],
   "source": [
    "F = float(input(\"The temeperature today is (in degree Fahrenheit) \"))\n",
    "C = (5/9)*(F-32)\n",
    "print(\"The temeperature today is (in degree Celsius) \", C)"
   ]
  },
  {
   "cell_type": "code",
   "execution_count": 57,
   "metadata": {},
   "outputs": [
    {
     "name": "stdout",
     "output_type": "stream",
     "text": [
      "Give me the flight time of the object (in seconds) 8\n",
      "The object has fallen  313.6 on Earth (in meters) and  52.26666666666667 on Moon (in meters)\n"
     ]
    }
   ],
   "source": [
    "t = float(input(\"Give me the flight time of the object (in seconds) \"))\n",
    "H_Earth = (0.5)*(9.8)*t**2\n",
    "H_Moon = (0.5)*(9.8/6)*t**2\n",
    "print(\"The object has fallen \", H_Earth, \"on Earth (in meters) and \", H_Moon, \"on Moon (in meters)\")"
   ]
  },
  {
   "cell_type": "markdown",
   "metadata": {},
   "source": [
    "## printing matrix array"
   ]
  },
  {
   "cell_type": "code",
   "execution_count": 61,
   "metadata": {},
   "outputs": [
    {
     "name": "stdout",
     "output_type": "stream",
     "text": [
      "*\t*\t*\t*\t*\t\n",
      "*\t*\t*\t*\t*\t\n",
      "*\t*\t*\t*\t*\t\n",
      "*\t*\t*\t*\t*\t\n",
      "*\t*\t*\t*\t*\t\n"
     ]
    }
   ],
   "source": [
    "print(\"*\\t*\\t*\\t*\\t*\\t\")\n",
    "print(\"*\\t*\\t*\\t*\\t*\\t\")\n",
    "print(\"*\\t*\\t*\\t*\\t*\\t\")\n",
    "print(\"*\\t*\\t*\\t*\\t*\\t\")\n",
    "print(\"*\\t*\\t*\\t*\\t*\\t\")"
   ]
  },
  {
   "cell_type": "markdown",
   "metadata": {},
   "source": [
    "Density Matrix\n",
    "\n",
    "\\begin{pmatrix}\n",
    "{\\rho_{00}} & {\\rho_{01}} & {\\rho_{02}} \\\\\n",
    "{\\rho_{10}} & {\\rho_{11}} & {\\rho_{12}} \\\\\n",
    "{\\rho_{20}} & {\\rho_{21}} & {\\rho_{22}} \\\\\n",
    "\\end{pmatrix}\n"
   ]
  },
  {
   "cell_type": "code",
   "execution_count": 62,
   "metadata": {},
   "outputs": [
    {
     "name": "stdout",
     "output_type": "stream",
     "text": [
      "*\t*\t*\t*\t*\t\n",
      "*\t*\t*\t*\t*\t\n",
      "\n",
      "*\t*\t*\t*\t*\t\n",
      "*\t*\t*\t*\t*\t\n"
     ]
    }
   ],
   "source": [
    "print(\"*\\t*\\t*\\t*\\t*\\t\")\n",
    "print(\"*\\t*\\t*\\t*\\t*\\t\")\n",
    "print()\n",
    "print(\"*\\t*\\t*\\t*\\t*\\t\")\n",
    "print(\"*\\t*\\t*\\t*\\t*\\t\")"
   ]
  },
  {
   "cell_type": "code",
   "execution_count": null,
   "metadata": {},
   "outputs": [],
   "source": []
  }
 ],
 "metadata": {
  "kernelspec": {
   "display_name": "Python 3",
   "language": "python",
   "name": "python3"
  },
  "language_info": {
   "codemirror_mode": {
    "name": "ipython",
    "version": 3
   },
   "file_extension": ".py",
   "mimetype": "text/x-python",
   "name": "python",
   "nbconvert_exporter": "python",
   "pygments_lexer": "ipython3",
   "version": "3.7.6"
  }
 },
 "nbformat": 4,
 "nbformat_minor": 4
}
