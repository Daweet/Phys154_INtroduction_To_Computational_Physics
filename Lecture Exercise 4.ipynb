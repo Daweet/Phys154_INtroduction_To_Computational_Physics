{
 "cells": [
  {
   "cell_type": "markdown",
   "id": "1851e974",
   "metadata": {},
   "source": [
    "# Slope and Derivatives\n",
    "\n",
    "$\\frac{df}{dx}=\\frac{f(x+\\delta)-f(x)}{\\delta}$\n",
    "\n",
    "Our function for the following returns $x(x-1)$ and take $\\delta=10^{-2}$\n",
    "\n",
    "\n",
    "Derivative of $\\frac{d}{dx}x(x-1) = \\frac{d}{dx} (x^2-x)$ is $(2x-1)$, so this valiue at $x=1$ is 1 "
   ]
  },
  {
   "cell_type": "code",
   "execution_count": 48,
   "id": "5874f8cc",
   "metadata": {},
   "outputs": [],
   "source": [
    "# import all your libraries\n",
    "import numpy as np\n",
    "import cmath\n",
    "import math"
   ]
  },
  {
   "cell_type": "code",
   "execution_count": 49,
   "id": "4a8f49c2",
   "metadata": {},
   "outputs": [
    {
     "name": "stdout",
     "output_type": "stream",
     "text": [
      "1e-10 1.000000082840371\n"
     ]
    }
   ],
   "source": [
    "def f(x):\n",
    "    return x*(x-1)\n",
    "\n",
    "delta = 1e-10 # 10**(-2)\n",
    "x = 1\n",
    "df = (f(x+delta)-f(x))/delta\n",
    "\n",
    "print(delta, df)"
   ]
  },
  {
   "cell_type": "markdown",
   "id": "b394eb97",
   "metadata": {},
   "source": [
    "## Exercise: The position of an object is given as $x(t)=2t^3-3t^2+4t-6$\n",
    "\n",
    "Velocity, which is derivative of the position is $v(t)=6t^2-6t+4$ which at time (2 seconds) $v(2)=16 m/s$\n",
    "\n"
   ]
  },
  {
   "cell_type": "code",
   "execution_count": 50,
   "id": "13d31538",
   "metadata": {},
   "outputs": [
    {
     "name": "stdout",
     "output_type": "stream",
     "text": [
      "1e-14 16.342482922482304\n"
     ]
    }
   ],
   "source": [
    "def x(t):\n",
    "    return 2*t**3-3*t**2+4*t-6\n",
    "\n",
    "delta = 1e-14 # 10**(-2)\n",
    "t = 2\n",
    "dx = (x(t+delta)-x(t))/delta\n",
    "\n",
    "print(delta, dx)"
   ]
  },
  {
   "cell_type": "markdown",
   "id": "5df3ce8e",
   "metadata": {},
   "source": [
    "For $\\delta=1e-14$, the solution provides $16.342482922482304$ as an aswer that means it gets worse. This is so because the two numbers (on the numerator) are very close to each other we get fractional error."
   ]
  },
  {
   "cell_type": "markdown",
   "id": "f46d07bc",
   "metadata": {},
   "source": [
    "# Questions \n",
    "What is the acceleration? $a(t)=12t-6$ and this at $t =2$ seconds gives $a(2)=18 m/s^2$"
   ]
  },
  {
   "cell_type": "code",
   "execution_count": 51,
   "id": "60009417",
   "metadata": {},
   "outputs": [
    {
     "name": "stdout",
     "output_type": "stream",
     "text": [
      "1e-08 18.000000068241206\n"
     ]
    }
   ],
   "source": [
    "def v(t):\n",
    "    return 6*t**2-6*t+4\n",
    "\n",
    "delta = 1e-8 # 10**(-2)\n",
    "t = 2\n",
    "dv = (v(t+delta)-v(t))/delta\n",
    "\n",
    "print(delta, dv)"
   ]
  },
  {
   "cell_type": "markdown",
   "id": "1966e88f",
   "metadata": {},
   "source": [
    "# Accuracy (int and float)\n",
    "\n",
    "factorial $n!=n(n-1)(n-2)\\ldots[n-(n-1)]$"
   ]
  },
  {
   "cell_type": "code",
   "execution_count": 52,
   "id": "c9314d37",
   "metadata": {},
   "outputs": [
    {
     "name": "stdout",
     "output_type": "stream",
     "text": [
      "24\n"
     ]
    }
   ],
   "source": [
    "fac = 4 #int\n",
    "for i in range(1,fac):\n",
    "    fac *= i #3!= 3*2*1\n",
    "print(fac)"
   ]
  },
  {
   "cell_type": "markdown",
   "id": "112ab5c4",
   "metadata": {},
   "source": [
    "# Quadratic Equations $ax^2+bx+c$, solution is $\\frac{-b\\pm\\sqrt{b^2-4ac}}{2a}$\n",
    "\n",
    "Roots $r_1*r_2 = 1$"
   ]
  },
  {
   "cell_type": "code",
   "execution_count": 54,
   "id": "8e11832e",
   "metadata": {},
   "outputs": [
    {
     "name": "stdout",
     "output_type": "stream",
     "text": [
      "Enter a: 1\n",
      "Enter b: 5\n",
      "Enter c: 2\n",
      "-4.561552812808831 -0.21922359359558485\n"
     ]
    }
   ],
   "source": [
    "\n",
    "a = float(input(\"Enter a: \"))\n",
    "b = float(input(\"Enter b: \"))\n",
    "c = float(input(\"Enter c: \"))\n",
    "\n",
    "squareroot = np.sqrt(b*b-4*a*c)\n",
    "\n",
    "if b>0.0: #\n",
    "    r1=(-b-squareroot)/(2*a) #r1\n",
    "    r2= 2*a/(-b-squareroot)\n",
    "else:\n",
    "    r1=(-b+squareroot)/(2*a) #r2\n",
    "    r2= 2*a/(-b+squareroot)\n",
    "    \n",
    "print(r1,r2)"
   ]
  },
  {
   "cell_type": "markdown",
   "id": "c048ae87",
   "metadata": {},
   "source": [
    "# On Jasmine's question \n",
    "\n",
    "To produce cases where the discriminant produces different results including complex number"
   ]
  },
  {
   "cell_type": "markdown",
   "id": "773f8b9e",
   "metadata": {},
   "source": [
    "$\\frac{-b\\pm\\sqrt{b^2-4ac}}{2a}$ \n",
    "\n",
    "Discriminant rules\n",
    "\n",
    "* If $b^2-4ac < 0$ the quadratic equation has no real solution, its soilution is complex number\n",
    "* If $b^2-4ac = 0 $ the quadratic equation has only one solution, in fact we have two real and same roots/solutions.\n",
    "* $b^2-4ac > 0$ the quadratic equation has two real and different solution"
   ]
  },
  {
   "cell_type": "code",
   "execution_count": 55,
   "id": "3babd2f9",
   "metadata": {},
   "outputs": [
    {
     "name": "stdout",
     "output_type": "stream",
     "text": [
      "Enter a: 2\n",
      "Enter b: 4\n",
      "Enter c: 6\n",
      "Gives two Complex Roots\n",
      "-1.0 -1.0\n"
     ]
    },
    {
     "name": "stderr",
     "output_type": "stream",
     "text": [
      "/Users/ramlijufar/opt/anaconda3/lib/python3.7/site-packages/ipykernel_launcher.py:5: RuntimeWarning: invalid value encountered in sqrt\n",
      "  \"\"\"\n"
     ]
    }
   ],
   "source": [
    "\n",
    "a = float(input(\"Enter a: \"))\n",
    "b = float(input(\"Enter b: \"))\n",
    "c = float(input(\"Enter c: \"))\n",
    "\n",
    "squareroot = np.sqrt(b*b-4*a*c) \n",
    "\n",
    "if squareroot > 0.0: #\n",
    "    print(\"Gives two real and distinct roots\")\n",
    "    r1=(-b-squareroot)/(2*a) #r1\n",
    "    r2=(-b+squareroot)/(2*a)\n",
    "    print(r1,r2)\n",
    "    \n",
    "elif squareroot == 0.0: #\n",
    "    print(\"Gives one real root (or two same roots)\")\n",
    "    r1=(-b)/(2*a) #r1\n",
    "    r2=(-b)/(2*a)\n",
    "    print(r1,r2)\n",
    "    \n",
    "else:\n",
    "    r1=(-b)/(2*a) #r2\n",
    "    r1=(-b)/(2*a)\n",
    "    print(\"Gives two Complex Roots\")\n",
    "    #print(- b / (2 * a), + i, squareroot)\n",
    "    #print(- b / (2 * a), - i, squareroot)\n",
    "    print(r1,r1)\n",
    "\n",
    "\n",
    "\n"
   ]
  },
  {
   "cell_type": "markdown",
   "id": "cd14a9db",
   "metadata": {},
   "source": [
    "# But we can improve the code as follows\n",
    "\n",
    "What if we want to show the complex number"
   ]
  },
  {
   "cell_type": "code",
   "execution_count": 56,
   "id": "62ae7957",
   "metadata": {},
   "outputs": [
    {
     "name": "stdout",
     "output_type": "stream",
     "text": [
      "Enter a: 1\n",
      "Enter b: 2\n",
      "Enter c: 3\n",
      "Gives two Complex Roots\n",
      "(-1-1.4142135623730951j) (-1+1.4142135623730951j)\n"
     ]
    },
    {
     "name": "stderr",
     "output_type": "stream",
     "text": [
      "/Users/ramlijufar/opt/anaconda3/lib/python3.7/site-packages/ipykernel_launcher.py:5: RuntimeWarning: invalid value encountered in sqrt\n",
      "  \"\"\"\n"
     ]
    }
   ],
   "source": [
    "\n",
    "a = float(input(\"Enter a: \"))\n",
    "b = float(input(\"Enter b: \"))\n",
    "c = float(input(\"Enter c: \"))\n",
    "\n",
    "squareroot = np.sqrt(b*b-4*a*c) \n",
    "csquareroot = cmath.sqrt(b*b-4*a*c) # Complex number\n",
    "\n",
    "if squareroot > 0.0: #\n",
    "    \n",
    "    print(\"Gives two real and distinct roots\")\n",
    "    r1=(-b-squareroot)/(2*a) \n",
    "    r2=(-b+squareroot)/(2*a)\n",
    "    print(r1,r2)\n",
    "    \n",
    "elif squareroot == 0.0: #\n",
    "    print(\"Gives one real root (or two same roots)\")\n",
    "    r1=(-b-squareroot)/(2*a) \n",
    "    r2=(-b+squareroot)/(2*a)\n",
    "    print(r1,r2)\n",
    "    \n",
    "else:\n",
    "    r1=(-b-csquareroot)/(2*a) \n",
    "    r2=(-b+csquareroot)/(2*a)\n",
    "    print(\"Gives two Complex Roots\")\n",
    "    #print(- b / (2 * a), + i, squareroot)\n",
    "    #print(- b / (2 * a), - i, squareroot)\n",
    "    print(r1,r2)\n",
    "\n",
    "\n",
    "\n"
   ]
  },
  {
   "cell_type": "markdown",
   "id": "c60bfb78",
   "metadata": {},
   "source": [
    "## Notice the above warning that means there is some issue which needs fixing, and that tells the above code must be improved\n",
    "\n",
    "\n",
    "### Let us rather build a Solver where we input the values simultaneously, for accuracy we will add tolerance in this case `tol`. We want the function to display the equation (we can do this using format) along with the solution for different cases of the discriminant.\n",
    "\n",
    "\n",
    "To use the next function run it and call it with arguments a,b,c which are numbers of your choice to test the different cases. The way to call it in the next cell write `quadratic_solution(1,7,4, tol = 1e-8)`ansd execute the cell. Actuall since the tolerance is fixed you can simply call your function as `quadratic_solution(1,7,4,)`"
   ]
  },
  {
   "cell_type": "code",
   "execution_count": 57,
   "id": "e5c557c6",
   "metadata": {},
   "outputs": [],
   "source": [
    "\n",
    "\n",
    "def quadratic_solution(a,b,c, tol = 1e-7):\n",
    "    print('Your Equation is: ({0})x^2 + ({1})x +{2}'.format(a,b,c))\n",
    "    \n",
    "    # Restrictive conditions on a, b, and c\n",
    "    if a==b==0:\n",
    "        if c!=0:\n",
    "            print('This is not really a valid equation')\n",
    "        else:\n",
    "            print('0 = 0 nothing interesting in this equation')\n",
    "        return\n",
    "    if a == 0:\n",
    "        print('Gives one single root r1 =',-c/b)\n",
    "        return\n",
    "    \n",
    "    # checking your discriminant\n",
    "    inside_squareroot = b**2 - 4*a*c\n",
    "    \n",
    "    if inside_squareroot > 0:\n",
    "        r1 = (-b+math.sqrt(inside_squareroot))/(2*a)\n",
    "        r2 = (-b-math.sqrt(inside_squareroot))/(2*a)\n",
    "        print('Gives two real and distinct roots')\n",
    "        print(r1,r2)\n",
    "        \n",
    "    elif inside_squareroot == 0:\n",
    "        r1 = float(-b+math.sqrt(inside_squareroot))/(2*a)\n",
    "        r2 = float(-b-math.sqrt(inside_squareroot))/(2*a)\n",
    "        print('Gives one real root (or two same roots): ')\n",
    "        print(r1,r2)\n",
    "        \n",
    "    \n",
    "    else:\n",
    "        r1 = (-b+cmath.sqrt(inside_squareroot))/(2*a)\n",
    "        r2 = (-b-cmath.sqrt(inside_squareroot))/(2*a)\n",
    "        print('Gives two Complex Roots')\n",
    "        print(r1,r2)"
   ]
  },
  {
   "cell_type": "code",
   "execution_count": 58,
   "id": "e91d1608",
   "metadata": {},
   "outputs": [
    {
     "name": "stdout",
     "output_type": "stream",
     "text": [
      "Your Equation is: (0)x^2 + (0)x +0\n",
      "0 = 0 nothing interesting in this equation\n"
     ]
    }
   ],
   "source": [
    "quadratic_solution(0,0,0)"
   ]
  },
  {
   "cell_type": "code",
   "execution_count": 59,
   "id": "334d7824",
   "metadata": {},
   "outputs": [
    {
     "name": "stdout",
     "output_type": "stream",
     "text": [
      "Your Equation is: (0)x^2 + (0)x +2\n",
      "This is not really a valid equation\n"
     ]
    }
   ],
   "source": [
    "quadratic_solution(0,0,2)"
   ]
  },
  {
   "cell_type": "code",
   "execution_count": 60,
   "id": "bbac5c95",
   "metadata": {},
   "outputs": [
    {
     "name": "stdout",
     "output_type": "stream",
     "text": [
      "Your Equation is: (2)x^2 + (6)x +3\n",
      "Gives two real and distinct roots\n",
      "-0.6339745962155614 -2.3660254037844384\n"
     ]
    }
   ],
   "source": [
    "quadratic_solution(2,6,3)"
   ]
  },
  {
   "cell_type": "code",
   "execution_count": 61,
   "id": "b9b93044",
   "metadata": {},
   "outputs": [
    {
     "name": "stdout",
     "output_type": "stream",
     "text": [
      "Your Equation is: (2)x^2 + (4)x +2\n",
      "Gives one real root (or two same roots): \n",
      "-1.0 -1.0\n"
     ]
    }
   ],
   "source": [
    "quadratic_solution(2,4,2)"
   ]
  },
  {
   "cell_type": "code",
   "execution_count": 62,
   "id": "dff84cc4",
   "metadata": {},
   "outputs": [
    {
     "name": "stdout",
     "output_type": "stream",
     "text": [
      "Your Equation is: (1)x^2 + (2)x +3\n",
      "Gives two Complex Roots\n",
      "(-1+1.4142135623730951j) (-1-1.4142135623730951j)\n"
     ]
    }
   ],
   "source": [
    "quadratic_solution(1,2,3)"
   ]
  },
  {
   "cell_type": "code",
   "execution_count": null,
   "id": "e3100d5c",
   "metadata": {},
   "outputs": [],
   "source": []
  },
  {
   "cell_type": "code",
   "execution_count": null,
   "id": "e17b88cf",
   "metadata": {},
   "outputs": [],
   "source": []
  }
 ],
 "metadata": {
  "kernelspec": {
   "display_name": "Python 3",
   "language": "python",
   "name": "python3"
  },
  "language_info": {
   "codemirror_mode": {
    "name": "ipython",
    "version": 3
   },
   "file_extension": ".py",
   "mimetype": "text/x-python",
   "name": "python",
   "nbconvert_exporter": "python",
   "pygments_lexer": "ipython3",
   "version": "3.7.6"
  }
 },
 "nbformat": 4,
 "nbformat_minor": 5
}
