{
 "cells": [
  {
   "cell_type": "markdown",
   "id": "e9fa91a3",
   "metadata": {},
   "source": [
    "# Physical example: Two masses and three strings\n",
    "\n",
    "Assume two masses (with mass $M_1, M_2$) are hung  by three connected strings of length $L_1, L_2, L_3$. The system is in equilibrium. \n",
    "\n",
    "The systems is indicated in the following figure ![Physical System](PhysicalExample.png)"
   ]
  },
  {
   "cell_type": "markdown",
   "id": "15abe838",
   "metadata": {},
   "source": [
    "We have in total nine equations, that describes the relation between tension, length, and angle.\n",
    "\n",
    "$-T_1\\cos\\theta_1+T_2\\cos\\theta_2=0$ \n",
    "\n",
    "$T_1\\sin\\theta_1-T_2\\sin\\theta_2-W_1=0$\n",
    "\n",
    "$-T_2\\cos\\theta_2+T_3\\cos\\theta_3=0$ \n",
    "\n",
    "$T_2\\sin\\theta_2+T_3\\sin\\theta_3-W_2=0$\n",
    "\n",
    "$L_1\\cos\\theta_1+L_2\\cos\\theta_2+L_3\\cos\\theta_3-L=0$\n",
    "\n",
    "$-L_1\\sin\\theta_1-L_2\\sin\\theta_2+L_3\\sin\\theta_3=0$  \n",
    "\n",
    "$\\sin^2\\theta_1+\\cos^2\\theta_1-1=0$. \n",
    "\n",
    "$\\sin^2\\theta_2+\\cos^2\\theta_2-1=0$. \n",
    "\n",
    "$\\sin^2\\theta_3+\\cos^2\\theta_3-1=0$. \n"
   ]
  },
  {
   "cell_type": "markdown",
   "id": "25e3494a",
   "metadata": {},
   "source": [
    "Let us write these as nine coupled equations, call our function $f$ with unknown x (also 9-dimensional vector)\n",
    "\n",
    "$f(x) = 0$  \n",
    "where the column vector is \n",
    "$x  = \\begin{pmatrix}x_0 \\\\ \n",
    "x_1 \\\\ \n",
    "x_2 \\\\ \n",
    "x_3 \\\\ \n",
    "x_4 \\\\ \n",
    "x_5 \\\\ \n",
    "x_6 \\\\ \n",
    "x_7 \\\\ \n",
    "x_8  \\end{pmatrix}=\\begin{pmatrix}\\sin\\theta_1 \\\\ \n",
    "\\sin\\theta_2 \\\\ \n",
    "\\sin\\theta_3 \\\\ \n",
    "\\cos\\theta_1 \\\\ \n",
    "\\cos\\theta_2 \\\\ \n",
    "\\cos\\theta_3 \\\\ \n",
    "T_1 \\\\ \n",
    "T_2 \\\\ \n",
    "T_3  \\end{pmatrix}$\n",
    "\n",
    "And the lengths and weights can be put in another column vector\n",
    "\n",
    "$L =\\begin{pmatrix}L \\\\ L_1\\\\ L_2\\\\ L_3\\end{pmatrix}$, and the weights $W =\\begin{pmatrix}W_1 \\\\ W_2\\end{pmatrix}$\n",
    "\n",
    "\n",
    "Using these new definitions we can rewrite our equation as \n",
    "\n",
    "$-x_6x_3+x_7x_4=0$ \n",
    "\n",
    "$x_6x_0-x_7x_1-W_1=0$\n",
    "\n",
    "$-x_7x_4+x_8x_5=0$ \n",
    "\n",
    "$x_7x_1+x_8x_2-W_2=0$\n",
    "\n",
    "$L_1x_3+L_2x_4+L_3x_5-L=0$\n",
    "\n",
    "$-L_1x_0-L_2x_1+L_3x_2=0$  \n",
    "\n",
    "$x_0^2+x^2_3-1=0$. \n",
    "\n",
    "$x_1^2+x^2_4-1=0$. \n",
    "\n",
    "$x_2^2+x^2_5-1=0$. "
   ]
  },
  {
   "cell_type": "markdown",
   "id": "caf6d439",
   "metadata": {},
   "source": [
    "## Find root?\n",
    "\n",
    "Problem $f(x)=0$. The solution can be obtained Newton-Raphson algorithm\n",
    "\n",
    "$J(x)\\Delta(x)=-f(x)$ and $x\\leftarrow x+\\Delta x$"
   ]
  },
  {
   "cell_type": "code",
   "execution_count": 35,
   "id": "b4cc24af",
   "metadata": {},
   "outputs": [],
   "source": [
    "# Given parameters\n",
    "import numpy as np\n",
    "W = np.array([10, 25])\n",
    "L = np.array([9, 3, 5, 4 ])\n",
    "\n",
    "def func_masses(X,L,W):\n",
    "    return np.array ([-x[6]*x[3]+x[7]*x[4],\n",
    "                     x[6]*x[0]-x[7]*x[1]-W[0],\n",
    "                     -x[7]*x[4]+x[8]*x[5],\n",
    "                     x[7]*x[1]+x[8]*x[2]-W[1],\n",
    "                     L[1]*x[3]+L[2]*x[4]+L[3]*x[5]-L[0],\n",
    "                     -L[1]*x[0]-L[2]*x[1]+L[3]*x[2],\n",
    "                     x[0]**2 + x[3]**2-1,\n",
    "                     x[1]**2 + x[4]**2-1,\n",
    "                    x[2]**2 + x[5]**2-1,\n",
    "                     ])\n",
    "\n",
    "def func_LW(X, L=L,W=W):\n",
    "    return func_masses(X,L,W)"
   ]
  },
  {
   "cell_type": "code",
   "execution_count": 36,
   "id": "f33df59b",
   "metadata": {},
   "outputs": [],
   "source": [
    "# Initial values\n",
    "\n",
    "x0 = np.array([1.5,.5,.5,.5,.5,.5,1,1,1])"
   ]
  },
  {
   "cell_type": "markdown",
   "id": "0a1961fe",
   "metadata": {},
   "source": [
    "# Visualizing the result"
   ]
  },
  {
   "cell_type": "code",
   "execution_count": 37,
   "id": "def6fdeb",
   "metadata": {},
   "outputs": [],
   "source": [
    "import matplotlib\n",
    "import matplotlib.pyplot as plt\n",
    "%matplotlib inline"
   ]
  },
  {
   "cell_type": "code",
   "execution_count": 38,
   "id": "a6b7c6e5",
   "metadata": {},
   "outputs": [],
   "source": [
    "def plot_masses(x,L,W,**kwargs):\n",
    "    kwargs.setdefault('linestyle','-')\n",
    "    kwargs.setdefault('marker','o')\n",
    "    kwargs.setdefault('linewidth',1)\n",
    "    \n",
    "    ax = kwargs.pop('ax', None)\n",
    "    if ax is None:\n",
    "        ax=plt.subplot(111)# play with this number change it\n",
    "        \n",
    "    r0 = np.array([0,0])\n",
    "    r1 = r0 + np.array([L[0],0])\n",
    "    rod = np.transpose([r0,r1])\n",
    "    \n",
    "    L1 = r0 + np.array([L[1]*x[3],-L[1]*x[0]])\n",
    "    L2 = L1 + np.array([L[2]*x[4],-L[2]*x[1]])\n",
    "    L3 = L2 + np.array([L[3]*x[5],L[3]*x[2]])\n",
    "    \n",
    "    string = np.transpose([r0,L1,L2,L3])\n",
    "    \n",
    "    ax.plot(rod[0],rod[1], color=\"black\", marker=\"d\", linewidth=3)\n",
    "    ax.plot(string[0],string[1], **kwargs)\n",
    "    ax.set_aspect(1)\n",
    "    return ax"
   ]
  },
  {
   "cell_type": "code",
   "execution_count": 34,
   "id": "9a35fdaa",
   "metadata": {},
   "outputs": [
    {
     "data": {
      "text/plain": [
       "<matplotlib.axes._subplots.AxesSubplot at 0x7ff006aa3a90>"
      ]
     },
     "execution_count": 34,
     "metadata": {},
     "output_type": "execute_result"
    },
    {
     "data": {
      "image/png": "[encoded data removed]",
      "text/plain": [
       "<Figure size 432x288 with 1 Axes>"
      ]
     },
     "metadata": {
      "needs_background": "light"
     },
     "output_type": "display_data"
    }
   ],
   "source": [
    "plot_masses(x0,L,W)"
   ]
  },
  {
   "cell_type": "code",
   "execution_count": null,
   "id": "e8c3b030",
   "metadata": {},
   "outputs": [],
   "source": []
  }
 ],
 "metadata": {
  "kernelspec": {
   "display_name": "Python 3",
   "language": "python",
   "name": "python3"
  },
  "language_info": {
   "codemirror_mode": {
    "name": "ipython",
    "version": 3
   },
   "file_extension": ".py",
   "mimetype": "text/x-python",
   "name": "python",
   "nbconvert_exporter": "python",
   "pygments_lexer": "ipython3",
   "version": "3.7.6"
  }
 },
 "nbformat": 4,
 "nbformat_minor": 5
}
