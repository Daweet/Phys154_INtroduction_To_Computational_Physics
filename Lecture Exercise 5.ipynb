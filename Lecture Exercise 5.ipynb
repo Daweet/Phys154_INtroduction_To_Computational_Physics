{
 "cells": [
  {
   "cell_type": "markdown",
   "id": "e3553910",
   "metadata": {},
   "source": [
    "# Integrating functions  $\\int_a^b f(x)dx$\n",
    "\n",
    "## Methods\n",
    "\n",
    "* Trapezioidal method\n",
    "* Simpson\n",
    "\n",
    "Example: Let us integrate $\\Huge\\int_0^2 \\sqrt{(1-x^2)}~ dx$"
   ]
  },
  {
   "cell_type": "code",
   "execution_count": 42,
   "id": "60ed0ce6",
   "metadata": {},
   "outputs": [],
   "source": [
    "from math import sqrt\n",
    "from math import exp\n",
    "from math import sin\n",
    "from numpy import linspace\n",
    "from pylab import plot, ylim, show"
   ]
  },
  {
   "cell_type": "code",
   "execution_count": 13,
   "id": "7d2710bd",
   "metadata": {},
   "outputs": [
    {
     "name": "stdout",
     "output_type": "stream",
     "text": [
      "1.570794663715291\n"
     ]
    }
   ],
   "source": [
    "\n",
    "\n",
    "def f(x):\n",
    "    return sqrt(1-x**2)\n",
    "\n",
    "N = 10000\n",
    "h = 2/N\n",
    "IntgRal = 0.0\n",
    "\n",
    "for k in range(N):\n",
    "    IntgRal += h*f(-1+h*k)\n",
    "    \n",
    "print(IntgRal)"
   ]
  },
  {
   "cell_type": "markdown",
   "id": "0154217a",
   "metadata": {},
   "source": [
    "Example: Let us integrate $\\Huge\\int_0^2 (1-x^2)~ dx$"
   ]
  },
  {
   "cell_type": "code",
   "execution_count": 20,
   "id": "6b190b65",
   "metadata": {},
   "outputs": [
    {
     "name": "stdout",
     "output_type": "stream",
     "text": [
      "1.3331999999999997\n"
     ]
    }
   ],
   "source": [
    "# Using area of the rectangles\n",
    "def f(x):\n",
    "    return (1-x**2) \n",
    "\n",
    "N = 100\n",
    "h = 2/N\n",
    "IntgRal = 0.0\n",
    "\n",
    "for k in range(N):\n",
    "    IntgRal += h*f(-1+h*k)\n",
    "    \n",
    "print(IntgRal)"
   ]
  },
  {
   "cell_type": "code",
   "execution_count": 9,
   "id": "4ba843b4",
   "metadata": {},
   "outputs": [
    {
     "name": "stdout",
     "output_type": "stream",
     "text": [
      "-0.6666666666666666\n"
     ]
    }
   ],
   "source": [
    "def f(x):\n",
    "    return (1-x**2)\n",
    "\n",
    "N = 100\n",
    "a = 0.0\n",
    "b = 2.0\n",
    "h = (b-a)/N\n",
    "\n",
    "IntgRal_1 = 0.0\n",
    "\n",
    "for k in range(1,N,2):\n",
    "    IntgRal_1 += f(a+h*k)\n",
    "    \n",
    "IntgRal_2 = 0.0\n",
    "\n",
    "for k in range(2,N,2):\n",
    "    IntgRal_2 += f(a+h*k)\n",
    "    \n",
    "IntgRal = (f(a)+f(b)+4*IntgRal_1+2*IntgRal_2)*h/3 #Trapeziodal areas\n",
    "    \n",
    "print(IntgRal)"
   ]
  },
  {
   "cell_type": "code",
   "execution_count": 21,
   "id": "156126a8",
   "metadata": {},
   "outputs": [
    {
     "name": "stdout",
     "output_type": "stream",
     "text": [
      "0.785347869402832\n"
     ]
    }
   ],
   "source": [
    "# Rectangular area calculation\n",
    "\n",
    "def f(x):\n",
    "    return sqrt(1-x**2)\n",
    "\n",
    "N = 10000\n",
    "h = 1/N\n",
    "IntgRal = 0.0\n",
    "\n",
    "for k in range(N):\n",
    "    IntgRal += h*f(-1+h*k)\n",
    "\n",
    "print(IntgRal)   "
   ]
  },
  {
   "cell_type": "code",
   "execution_count": 22,
   "id": "d1b0da40",
   "metadata": {},
   "outputs": [
    {
     "name": "stdout",
     "output_type": "stream",
     "text": [
      "0.785283301334807\n"
     ]
    }
   ],
   "source": [
    "# Trapezoidal method\n",
    "\n",
    "def f(x):\n",
    "    return sqrt(1-x**2)\n",
    "\n",
    "N = 100\n",
    "a = 0.0\n",
    "b = 1.0\n",
    "h = (b-a)/N\n",
    "\n",
    "IntgRal_1 = 0.0\n",
    "\n",
    "for k in range(1,N,2):\n",
    "    IntgRal_1 += f(a+h*k)\n",
    "    \n",
    "IntgRal_2 = 0.0\n",
    "\n",
    "for k in range(2,N,2):\n",
    "    IntgRal_2 += f(a+h*k)\n",
    "    \n",
    "IntgRal = (f(a)+f(b)+4*IntgRal_1+2*IntgRal_2)*h/3 #Trapeziodal areas\n",
    "    \n",
    "print(IntgRal)"
   ]
  },
  {
   "cell_type": "markdown",
   "id": "d8514603",
   "metadata": {},
   "source": [
    "Exercise: Let us integrate $\\Huge\\int_0^2 (x^4-2x+1)~ dx = \\Huge[\\frac{x^5}{5}-x^2+x\\Huge]= \\Huge[\\frac{2^5}{5}-2^2+2\\Huge]= \\frac{22}{5}=4.4$"
   ]
  },
  {
   "cell_type": "code",
   "execution_count": 27,
   "id": "7bb83c31",
   "metadata": {},
   "outputs": [
    {
     "name": "stdout",
     "output_type": "stream",
     "text": [
      "2.440266656\n"
     ]
    }
   ],
   "source": [
    "# Rectangular area calculation\n",
    "\n",
    "def f(x):\n",
    "    return x**4-2*x+1\n",
    "\n",
    "N = 100\n",
    "h = 2/N\n",
    "IntgRal = 0.0\n",
    "\n",
    "for k in range(N):\n",
    "    IntgRal += h*f(-1+h*k)\n",
    "\n",
    "print(IntgRal)   "
   ]
  },
  {
   "cell_type": "code",
   "execution_count": 32,
   "id": "3017d1f0",
   "metadata": {},
   "outputs": [
    {
     "name": "stdout",
     "output_type": "stream",
     "text": [
      "4.400426666666668\n"
     ]
    }
   ],
   "source": [
    "# Trapezoidal method\n",
    "\n",
    "def f(x):\n",
    "    return x**4-2*x+1\n",
    "\n",
    "N = 10\n",
    "a = 0.0\n",
    "b = 2.0\n",
    "h = (b-a)/N\n",
    "\n",
    "IntgRal_1 = 0.0\n",
    "\n",
    "for k in range(1,N,2):\n",
    "    IntgRal_1 += f(a+h*k)\n",
    "    \n",
    "IntgRal_2 = 0.0\n",
    "\n",
    "for k in range(2,N,2):\n",
    "    IntgRal_2 += f(a+h*k)\n",
    "    \n",
    "IntgRal = (f(a)+f(b)+4*IntgRal_1+2*IntgRal_2)*h/3 #Trapeziodal areas\n",
    "    \n",
    "print(IntgRal)"
   ]
  },
  {
   "cell_type": "markdown",
   "id": "891e74b3",
   "metadata": {},
   "source": [
    "# Plotting your results\n",
    "\n",
    "Exercise: Let us integrate $\\Huge\\int e^{-t^2}~ dt $\n",
    "    "
   ]
  },
  {
   "cell_type": "code",
   "execution_count": 40,
   "id": "2b814a9d",
   "metadata": {},
   "outputs": [
    {
     "data": {
      "image/png": "[encoded data removed]",
      "text/plain": [
       "<Figure size 432x288 with 1 Axes>"
      ]
     },
     "metadata": {
      "needs_background": "light"
     },
     "output_type": "display_data"
    }
   ],
   "source": [
    "x_min = 0.0\n",
    "x_max = 4.0\n",
    "steps = 50\n",
    "step_size = (x_max-x_min)/steps\n",
    "N = 100\n",
    "h = step_size/N\n",
    "\n",
    "def f(t):\n",
    "    return exp(-t*t)\n",
    "\n",
    "# Trapezoidal rule\n",
    "IntG = 0.0\n",
    "x_points = linspace(x_min,x_max,steps+1)\n",
    "y_points = []\n",
    "for x in x_points:\n",
    "    y_points.append(IntG)\n",
    "    IntG += 0.5*h*(f(x)+f(x+N*h))\n",
    "    for k in range(N):\n",
    "        IntG += h*f(x+k*h)\n",
    "        \n",
    "# Show the plot\n",
    "plot(x_points, y_points)\n",
    "ylim(0.0, 1.0)\n",
    "show()"
   ]
  },
  {
   "cell_type": "markdown",
   "id": "b9220dc8",
   "metadata": {},
   "source": [
    "Exercise: Let us integrate $\\Huge\\int \\sin(10~t)~ dt = \\frac{1}{10}\\cos(10~t)$\n",
    "\n",
    "Oscillatory motion $\\Huge\\int \\sin(\\omega~t)~ dt $"
   ]
  },
  {
   "cell_type": "code",
   "execution_count": 50,
   "id": "da71f667",
   "metadata": {},
   "outputs": [
    {
     "data": {
      "image/png": "[encoded data removed]",
      "text/plain": [
       "<Figure size 432x288 with 1 Axes>"
      ]
     },
     "metadata": {
      "needs_background": "light"
     },
     "output_type": "display_data"
    }
   ],
   "source": [
    "x_min = 0.0\n",
    "x_max = 4.0\n",
    "steps = 10\n",
    "step_size = (x_max-x_min)/steps\n",
    "N = 100\n",
    "h = step_size/N\n",
    "\n",
    "def f(t):\n",
    "    return sin(10*t)\n",
    "\n",
    "# Trapezoidal rule\n",
    "IntG = 0.0\n",
    "x_points = linspace(x_min,x_max,steps+1)\n",
    "y_points = []\n",
    "for x in x_points:\n",
    "    y_points.append(IntG)\n",
    "    IntG += 0.5*h*(f(x)+f(x+N*h))\n",
    "    for k in range(N):\n",
    "        IntG += h*f(x+k*h)\n",
    "        \n",
    "# Show the plot\n",
    "plot(x_points, y_points)\n",
    "ylim(0.0, 0.23)\n",
    "show()"
   ]
  },
  {
   "cell_type": "code",
   "execution_count": 48,
   "id": "86ad3125",
   "metadata": {},
   "outputs": [
    {
     "data": {
      "image/png": "[encoded data removed]",
      "text/plain": [
       "<Figure size 432x288 with 1 Axes>"
      ]
     },
     "metadata": {
      "needs_background": "light"
     },
     "output_type": "display_data"
    }
   ],
   "source": [
    "x_min = 0.0\n",
    "x_max = 4.0\n",
    "steps = 5000\n",
    "step_size = (x_max-x_min)/steps\n",
    "N = 100\n",
    "h = step_size/N\n",
    "\n",
    "def f(t):\n",
    "    return sin(10*t)\n",
    "\n",
    "# Trapezoidal rule\n",
    "IntG = 0.0\n",
    "x_points = linspace(x_min,x_max,steps+1)\n",
    "y_points = []\n",
    "for x in x_points:\n",
    "    y_points.append(IntG)\n",
    "    IntG += 0.5*h*(f(x)+f(x+N*h))\n",
    "    for k in range(N):\n",
    "        IntG += h*f(x+k*h)\n",
    "        \n",
    "# Show the plot\n",
    "plot(x_points, y_points)\n",
    "ylim(0.0, 0.23)\n",
    "show()"
   ]
  },
  {
   "cell_type": "code",
   "execution_count": null,
   "id": "8121215b",
   "metadata": {},
   "outputs": [],
   "source": []
  }
 ],
 "metadata": {
  "kernelspec": {
   "display_name": "Python 3",
   "language": "python",
   "name": "python3"
  },
  "language_info": {
   "codemirror_mode": {
    "name": "ipython",
    "version": 3
   },
   "file_extension": ".py",
   "mimetype": "text/x-python",
   "name": "python",
   "nbconvert_exporter": "python",
   "pygments_lexer": "ipython3",
   "version": "3.7.6"
  }
 },
 "nbformat": 4,
 "nbformat_minor": 5
}
