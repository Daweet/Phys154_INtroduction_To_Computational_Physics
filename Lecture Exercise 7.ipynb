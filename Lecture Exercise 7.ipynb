{
 "cells": [
  {
   "cell_type": "markdown",
   "id": "c2ee2b0f",
   "metadata": {},
   "source": [
    "# Matrix Algebra\n",
    "\n",
    "## Eigenvalues\n",
    "\n",
    "### Physical Example: \n",
    "\n",
    "A mass attached to a spring, behaves like Harmonic Oscillator (HO), whose energy is $U = \\frac{1}{2}kx^2$. Where $k$ is the spring constant, and can be calculated $F = -\\frac{\\partial U}{\\partial x} = -kx$. Using $F = ma = m\\frac{d^2 x}{dx^2}$ one arrives at the $\\omega = \\sqrt{\\frac{k}{m}}$\n",
    "\n",
    "\n",
    "Assume vibrations of atoms: these imply multiple springs and multiple masses, interconnected. The characterstic (resoant) frequencies in molecular vibrations is closely realted to the eigenvalues.\n",
    "\n",
    "eigenvalues of a matric can be calculated\" `numpy.linalg.eigvals()`"
   ]
  },
  {
   "cell_type": "code",
   "execution_count": 4,
   "id": "eefee06d",
   "metadata": {},
   "outputs": [
    {
     "name": "stdout",
     "output_type": "stream",
     "text": [
      "\n",
      "The eigenvalues ($\\lambda$) of the Matrix_Energy are\n",
      "=[1.33160174+1.04166882j 1.33160174-1.04166882j 1.83679653+0.j        ]\n"
     ]
    }
   ],
   "source": [
    "import numpy as np\n",
    "Matrix_Energy = np.array([[1,-1,0],[1,1.5,-0.5],[0,0.5,2]], float)\n",
    "Eigen_values = np.linalg.eigvals(Matrix_Energy)\n",
    "print(\"\\nThe eigenvalues ($\\lambda$) of the Matrix_Energy are\")\n",
    "print(f\"={Eigen_values}\")"
   ]
  },
  {
   "cell_type": "markdown",
   "id": "70be77c4",
   "metadata": {},
   "source": [
    "Given the matrix $\\mathrm{Matrix Energy} =  \\begin{pmatrix}1 & -1 & 0\\\\\n",
    "1 & 1.5 & -.5\\\\\n",
    "0 & 0.5 & 2\\end{pmatrix}$\n",
    "\n",
    "\n",
    "Rounded Real Eigenvalues are $\\mathrm{ Real Eigenvalues} =\\lambda_j=  \\begin{pmatrix}1\\\\\n",
    "1\\\\\n",
    "2\\end{pmatrix}$\n",
    "\n",
    "and Rounded Imaginary $\\mathrm{ Imaginary Eigenvalues} =\\lambda_j=  \\begin{pmatrix}1 \\\\\n",
    "-1\\\\\n",
    "0\\end{pmatrix}$\n",
    "\n",
    "The resonant frequencies are known as eigenfrequencies $\\omega_j$ of your oscillations, and ther are related with the eigenvalues as $\\lambda_j=\\frac{m\\omega_j^2}{k}$, so then it follows that $\\omega_j=\\sqrt{\\frac{\\lambda_jk}{m}}$, which is $\\omega_j =\\sqrt{\\frac{k}{m}}  \\begin{pmatrix}1 \\\\\n",
    "-1\\\\\n",
    "0\\end{pmatrix}$\n",
    "\n",
    "In a scenario where $m=1=k$, so then $\\omega_j=\\sqrt{\\lambda}$"
   ]
  },
  {
   "cell_type": "code",
   "execution_count": 5,
   "id": "89962c91",
   "metadata": {},
   "outputs": [],
   "source": [
    "eigenvalues = np.array([1,1,2])\n",
    "omega = np.sqrt(eigenvalues) "
   ]
  },
  {
   "cell_type": "code",
   "execution_count": 6,
   "id": "25514f38",
   "metadata": {},
   "outputs": [
    {
     "name": "stdout",
     "output_type": "stream",
     "text": [
      "\n",
      "The eigenfrequencies ($\\omega$) are\n",
      "=[1.         1.         1.41421356]\n"
     ]
    }
   ],
   "source": [
    "print(\"\\nThe eigenfrequencies ($\\omega$) are\")\n",
    "print(f\"={omega}\")"
   ]
  },
  {
   "cell_type": "markdown",
   "id": "f89b2013",
   "metadata": {},
   "source": [
    "# Singular Value Decomposition (SVD\n",
    "\n",
    "Decomposes a matrix, matrix $H$ as follows\n",
    "\n",
    "$H = U\\mathrm{diag}(\\omega_j)V^T$ where the propoerties $U^TU=UU^T=1$ and $V^TV=VV^T=1$. Note that $U, V$ are orthogonal matricex and $\\omega_j$ are the singularf values arranhed diagonally. Meaning $\\Omega = diag(\\omega_j)$.\n",
    "\n",
    "If the inverse exists, you can calculate it via SVD as $H^{-1} = V\\mathrm{diag}(\\frac{1}{\\omega_j})U^T$ \n",
    "\n",
    "\n",
    "Application: solving $Ax=b$ written in matrix form as follows $ \\begin{pmatrix}a_{11} & a_{12} & a_{13}\\\\\n",
    "a_{21} & a_{22} & a_{23}\\\\\n",
    "a_{31} & a_{32} & a_{33}\\end{pmatrix}\\times\\begin{pmatrix}x_1 \\\\\n",
    "x_2\\\\\n",
    "x_3\\end{pmatrix}=\\begin{pmatrix}b_1 \\\\\n",
    "b_2\\\\\n",
    "b_3\\end{pmatrix}$"
   ]
  },
  {
   "cell_type": "code",
   "execution_count": 21,
   "id": "88e945b3",
   "metadata": {},
   "outputs": [],
   "source": [
    "A = np.array([[1,2,3],[4,5,6],[-1,2,-1]])\n",
    "b = np.array([0,1,2])"
   ]
  },
  {
   "cell_type": "code",
   "execution_count": 22,
   "id": "777708b2",
   "metadata": {},
   "outputs": [
    {
     "data": {
      "text/plain": [
       "array([ 0.11111111,  0.77777778, -0.55555556])"
      ]
     },
     "execution_count": 22,
     "metadata": {},
     "output_type": "execute_result"
    }
   ],
   "source": [
    "np.linalg.solve(A,b)"
   ]
  },
  {
   "cell_type": "markdown",
   "id": "d6d5bfa3",
   "metadata": {},
   "source": [
    "Using the SVD $x=A^{-1}b$ , lets call $O= \\Omega = diag(\\omega_j)$."
   ]
  },
  {
   "cell_type": "code",
   "execution_count": 24,
   "id": "be4e82f2",
   "metadata": {},
   "outputs": [
    {
     "name": "stdout",
     "output_type": "stream",
     "text": [
      "[9.508032   2.44948974 0.77286964]\n"
     ]
    }
   ],
   "source": [
    "U,O, VT = np.linalg.svd(A)\n",
    "\n",
    "print(O)"
   ]
  },
  {
   "cell_type": "markdown",
   "id": "bdd83e24",
   "metadata": {},
   "source": [
    "SVD check? $A = U\\mathrm{diag}(\\omega_j)V^T$ "
   ]
  },
  {
   "cell_type": "code",
   "execution_count": 25,
   "id": "1d56a597",
   "metadata": {},
   "outputs": [
    {
     "data": {
      "text/plain": [
       "array([[ 1.,  2.,  3.],\n",
       "       [ 4.,  5.,  6.],\n",
       "       [-1.,  2., -1.]])"
      ]
     },
     "execution_count": 25,
     "metadata": {},
     "output_type": "execute_result"
    }
   ],
   "source": [
    "U.dot(np.diag(O).dot(VT))"
   ]
  },
  {
   "cell_type": "code",
   "execution_count": 26,
   "id": "75074def",
   "metadata": {},
   "outputs": [
    {
     "data": {
      "text/plain": [
       "True"
      ]
     },
     "execution_count": 26,
     "metadata": {},
     "output_type": "execute_result"
    }
   ],
   "source": [
    "np.allclose(A,U.dot(np.diag(O).dot(VT)))"
   ]
  },
  {
   "cell_type": "code",
   "execution_count": 27,
   "id": "7fb81708",
   "metadata": {},
   "outputs": [
    {
     "name": "stdout",
     "output_type": "stream",
     "text": [
      "[0.10517424 0.40824829 1.29387927]\n"
     ]
    }
   ],
   "source": [
    "inverse_O = 1/O\n",
    "print(inverse_O)"
   ]
  },
  {
   "cell_type": "code",
   "execution_count": 29,
   "id": "70faa4cf",
   "metadata": {},
   "outputs": [
    {
     "name": "stdout",
     "output_type": "stream",
     "text": [
      "[[-0.94444444  0.44444444 -0.16666667]\n",
      " [-0.11111111  0.11111111  0.33333333]\n",
      " [ 0.72222222 -0.22222222 -0.16666667]]\n"
     ]
    }
   ],
   "source": [
    "A_inverse = VT.T.dot(np.diag(inverse_O)).dot(U.T) \n",
    "print(A_inverse)"
   ]
  },
  {
   "cell_type": "code",
   "execution_count": 30,
   "id": "2cb611cc",
   "metadata": {},
   "outputs": [
    {
     "data": {
      "text/plain": [
       "True"
      ]
     },
     "execution_count": 30,
     "metadata": {},
     "output_type": "execute_result"
    }
   ],
   "source": [
    "np.allclose(A_inverse ,np.linalg.inv(A))"
   ]
  },
  {
   "cell_type": "code",
   "execution_count": 32,
   "id": "a5a55023",
   "metadata": {},
   "outputs": [
    {
     "name": "stdout",
     "output_type": "stream",
     "text": [
      "[ 0.11111111  0.77777778 -0.55555556]\n"
     ]
    },
    {
     "data": {
      "text/plain": [
       "True"
      ]
     },
     "execution_count": 32,
     "metadata": {},
     "output_type": "execute_result"
    }
   ],
   "source": [
    "x = A_inverse.dot(b)\n",
    "print(x)\n",
    "np.allclose(x,np.linalg.solve(A,b))"
   ]
  },
  {
   "cell_type": "code",
   "execution_count": 33,
   "id": "a0e21894",
   "metadata": {},
   "outputs": [
    {
     "data": {
      "text/plain": [
       "array([-1.33226763e-15,  1.00000000e+00,  2.00000000e+00])"
      ]
     },
     "execution_count": 33,
     "metadata": {},
     "output_type": "execute_result"
    }
   ],
   "source": [
    "A.dot(x)"
   ]
  },
  {
   "cell_type": "code",
   "execution_count": 34,
   "id": "dd2a7b4b",
   "metadata": {},
   "outputs": [
    {
     "data": {
      "text/plain": [
       "True"
      ]
     },
     "execution_count": 34,
     "metadata": {},
     "output_type": "execute_result"
    }
   ],
   "source": [
    "np.allclose(A.dot(x),b)"
   ]
  },
  {
   "cell_type": "markdown",
   "id": "80b7597a",
   "metadata": {},
   "source": [
    "# Singular Matrix"
   ]
  },
  {
   "cell_type": "code",
   "execution_count": null,
   "id": "f4fffc24",
   "metadata": {},
   "outputs": [],
   "source": []
  }
 ],
 "metadata": {
  "kernelspec": {
   "display_name": "Python 3",
   "language": "python",
   "name": "python3"
  },
  "language_info": {
   "codemirror_mode": {
    "name": "ipython",
    "version": 3
   },
   "file_extension": ".py",
   "mimetype": "text/x-python",
   "name": "python",
   "nbconvert_exporter": "python",
   "pygments_lexer": "ipython3",
   "version": "3.7.6"
  }
 },
 "nbformat": 4,
 "nbformat_minor": 5
}
