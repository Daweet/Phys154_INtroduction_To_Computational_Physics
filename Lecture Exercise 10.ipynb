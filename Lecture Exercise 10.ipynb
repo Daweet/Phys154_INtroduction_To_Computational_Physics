{
 "cells": [
  {
   "cell_type": "markdown",
   "id": "43a077ef",
   "metadata": {},
   "source": [
    "# String problem  (continued)\n",
    "\n",
    "## Jacobian \n",
    "\n",
    "In python we can use this function `Jacobian(f,x, h=1e-5)`. This computes the Jacobian matrix (numerically, i.e. uses the centeral difference algorithm)\n",
    "\n",
    "$J=\\frac{\\partial \\textbf{f}}{\\partial \\textbf{x}}$ in a matrix/vector form, explicitly written what we have is\n",
    "\n",
    "$J_{ij}=\\frac{\\partial f_i(x_1,x_2,\\ldots,x_j,\\ldots)}{\\partial x_j}$ which can be written as\n",
    "$J_{ij}\\approx\\frac{f_i(x_1,x_2,\\ldots,x_j+\\frac{h}{2})-f_i(x_1,x_2,\\ldots,x_j-\\frac{h}{2},\\ldots)}{ h}$"
   ]
  },
  {
   "cell_type": "code",
   "execution_count": 92,
   "id": "16a6df2b",
   "metadata": {},
   "outputs": [],
   "source": [
    "import numpy as np\n",
    "import matplotlib\n",
    "import matplotlib.pyplot as plt\n",
    "%matplotlib inline"
   ]
  },
  {
   "cell_type": "code",
   "execution_count": 93,
   "id": "6838fc6c",
   "metadata": {},
   "outputs": [],
   "source": [
    "def Jacobian_Matrix(f,x,h=1e-5):\n",
    "    J=np.zeros((len(f(x)), len(x)),dtype=np.float64)\n",
    "    hvec=np.zeros_like(x,dtype=np.float64)\n",
    "    for j in range(len(x)):\n",
    "        hvec *= 0\n",
    "        hvec[j] = 0.5*h\n",
    "        J[:,j]=(f(x+hvec)-f(x-hvec))/(h) # CAUTION! mistyped h instead of x during class\n",
    "    return J"
   ]
  },
  {
   "cell_type": "markdown",
   "id": "e58ffb88",
   "metadata": {},
   "source": [
    "# Checking the Jacobian\n",
    "\n",
    "$g(x)=\\begin{pmatrix}x_0^2-x_1 \\\\ x_0\\end{pmatrix}$\n",
    "\n",
    "Analytically you see that \n",
    "\n",
    "$J=\\begin{pmatrix}\\frac{\\partial g_i }{\\partial x_j}\\end{pmatrix}=\\begin{pmatrix}\\frac{\\partial g_0 }{\\partial x_0}  & \\frac{\\partial g_0 }{\\partial x_1}\\\\ \\frac{\\partial g_1 }{\\partial x_0}  & \\frac{\\partial g_1 }{\\partial x_1}\\end{pmatrix}=\\begin{pmatrix}2x_0  & -1\\\\ 1 & 0\\end{pmatrix}$\n",
    "\n",
    "\n",
    "Given a test vector, call it $\\textbf{x}_{test}=(1,0)$, what is the numerical answer for Jacobian $J(\\textbf{x}_{test})?$\n",
    "\n",
    "It should yield $J(\\textbf{x}_{test})=\\begin{pmatrix}2  & -1\\\\ 1 & 0\\end{pmatrix}$ we should get the same answer when you check."
   ]
  },
  {
   "cell_type": "code",
   "execution_count": 94,
   "id": "0d3d4040",
   "metadata": {},
   "outputs": [
    {
     "name": "stdout",
     "output_type": "stream",
     "text": [
      "[[ 2. -1.]\n",
      " [ 1.  0.]]\n"
     ]
    }
   ],
   "source": [
    "def g(x):\n",
    "    return np.array([\n",
    "        x[0]**2-x[1],x[0]])\n",
    "x_test =np.array([1,0])\n",
    "J = Jacobian_Matrix(g,x_test)\n",
    "print(J)"
   ]
  },
  {
   "cell_type": "markdown",
   "id": "523f7700",
   "metadata": {},
   "source": [
    "# From Previous Lecture (Lecture 9)"
   ]
  },
  {
   "cell_type": "code",
   "execution_count": 95,
   "id": "53866f7c",
   "metadata": {},
   "outputs": [],
   "source": [
    "# Given parameters\n",
    "import numpy as np\n",
    "W = np.array([10, 25])\n",
    "L = np.array([9, 3, 5, 4 ])\n",
    "\n",
    "def func_masses(x,L,W):\n",
    "    return np.array ([-x[6]*x[3]+x[7]*x[4],\n",
    "                     x[6]*x[0]-x[7]*x[1]-W[0],\n",
    "                     -x[7]*x[4]+x[8]*x[5],\n",
    "                     x[7]*x[1]+x[8]*x[2]-W[1],\n",
    "                     L[1]*x[3]+L[2]*x[4]+L[3]*x[5]-L[0],\n",
    "                     -L[1]*x[0]-L[2]*x[1]+L[3]*x[2],\n",
    "                     x[0]**2 + x[3]**2-1,\n",
    "                     x[1]**2 + x[4]**2-1,\n",
    "                    x[2]**2 + x[5]**2-1,\n",
    "                     ])\n",
    "\n",
    "def func_LW(x, L=L,W=W):\n",
    "    return func_masses(x,L,W)"
   ]
  },
  {
   "cell_type": "code",
   "execution_count": 96,
   "id": "2e223645",
   "metadata": {},
   "outputs": [],
   "source": [
    "# Initial values\n",
    "\n",
    "x0 = np.array([1.5,.5,.5,.5,.5,.5,1,1,1])"
   ]
  },
  {
   "cell_type": "code",
   "execution_count": 97,
   "id": "e47d1cae",
   "metadata": {},
   "outputs": [],
   "source": [
    "def plot_masses(x,L,W,**kwargs):\n",
    "    kwargs.setdefault('linestyle','-')\n",
    "    kwargs.setdefault('marker','o')\n",
    "    kwargs.setdefault('linewidth',1)\n",
    "    \n",
    "    ax = kwargs.pop('ax', None)\n",
    "    if ax is None:\n",
    "        ax=plt.subplot(111)# play with this number change it\n",
    "        \n",
    "    r0 = np.array([0,0])\n",
    "    r1 = r0 + np.array([L[0],0])\n",
    "    rod = np.transpose([r0,r1])\n",
    "    \n",
    "    L1 = r0 + np.array([L[1]*x[3],-L[1]*x[0]])\n",
    "    L2 = L1 + np.array([L[2]*x[4],-L[2]*x[1]])\n",
    "    L3 = L2 + np.array([L[3]*x[5],L[3]*x[2]])\n",
    "    \n",
    "    string = np.transpose([r0,L1,L2,L3])\n",
    "    \n",
    "    ax.plot(rod[0],rod[1], color=\"black\", marker=\"d\", linewidth=3)\n",
    "    ax.plot(string[0],string[1], **kwargs)\n",
    "    ax.set_aspect(1)\n",
    "    return ax"
   ]
  },
  {
   "cell_type": "code",
   "execution_count": 98,
   "id": "3bba140c",
   "metadata": {},
   "outputs": [
    {
     "name": "stdout",
     "output_type": "stream",
     "text": [
      "[[ 0.   0.   0.  -1.   1.   0.  -0.5  0.5  0. ]\n",
      " [ 1.  -1.   0.   0.   0.   0.   1.5 -0.5  0. ]\n",
      " [ 0.   0.   0.   0.  -1.   1.   0.  -0.5  0.5]\n",
      " [ 0.   1.   1.   0.   0.   0.   0.   0.5  0.5]\n",
      " [ 0.   0.   0.   3.   5.   4.   0.   0.   0. ]\n",
      " [-3.  -5.   4.   0.   0.   0.   0.   0.   0. ]\n",
      " [ 3.   0.   0.   1.   0.   0.   0.   0.   0. ]\n",
      " [ 0.   1.   0.   0.   1.   0.   0.   0.   0. ]\n",
      " [ 0.   0.   1.   0.   0.   1.   0.   0.   0. ]]\n"
     ]
    }
   ],
   "source": [
    "J0 = Jacobian_Matrix(func_LW,x0)\n",
    "print(J0)"
   ]
  },
  {
   "cell_type": "code",
   "execution_count": 99,
   "id": "575f3848",
   "metadata": {},
   "outputs": [
    {
     "data": {
      "text/plain": [
       "(9, 9)"
      ]
     },
     "execution_count": 99,
     "metadata": {},
     "output_type": "execute_result"
    }
   ],
   "source": [
    "J0.shape"
   ]
  },
  {
   "cell_type": "markdown",
   "id": "bbc0dc93",
   "metadata": {},
   "source": [
    "# Newton-Raphson root finding method\n",
    "\n",
    "Is a trial and error method. Solves $f(x)=0$"
   ]
  },
  {
   "cell_type": "code",
   "execution_count": 100,
   "id": "8de5d28b",
   "metadata": {},
   "outputs": [],
   "source": [
    "def Newton_Raphson(f,x,Nmax=100,tol=1e-8,h=1e-5):\n",
    "    x=x.copy()\n",
    "    for istep in range(Nmax):\n",
    "        fx=f(x)\n",
    "        if np.linalg.norm(fx)< tol:\n",
    "            break\n",
    "        J = Jacobian_Matrix(f,x,h=h)\n",
    "        Delta_x = np.linalg.solve(J,-fx)\n",
    "        x += Delta_x\n",
    "    else:\n",
    "        raise RuntineError (f\"Newton_Raphson method didn't find root\")\n",
    "    return x"
   ]
  },
  {
   "cell_type": "code",
   "execution_count": 101,
   "id": "9a445bd2",
   "metadata": {},
   "outputs": [
    {
     "name": "stdout",
     "output_type": "stream",
     "text": [
      "[1.5 0.5 0.5 0.5 0.5 0.5 1.  1.  1. ]\n",
      "[ 0.71685854  0.25412962  0.85530593  0.69721864  0.96717017  0.51812331\n",
      " 18.73851365 13.50831685 25.21569848]\n"
     ]
    }
   ],
   "source": [
    "x = Newton_Raphson(func_LW,x0)\n",
    "print(x0)\n",
    "print(x)"
   ]
  },
  {
   "cell_type": "code",
   "execution_count": 102,
   "id": "e5e4ce31",
   "metadata": {},
   "outputs": [
    {
     "data": {
      "image/png": "[encoded data removed]",
      "text/plain": [
       "<Figure size 432x288 with 1 Axes>"
      ]
     },
     "metadata": {
      "needs_background": "light"
     },
     "output_type": "display_data"
    }
   ],
   "source": [
    "# Plot the results (the initial configuration and the solution)\n",
    "\n",
    "ax = plot_masses(x0,L,W)\n",
    "ax = plot_masses(x,L,W, ax=ax)"
   ]
  },
  {
   "cell_type": "code",
   "execution_count": null,
   "id": "a2b0879e",
   "metadata": {},
   "outputs": [],
   "source": []
  },
  {
   "cell_type": "code",
   "execution_count": null,
   "id": "c593263d",
   "metadata": {},
   "outputs": [],
   "source": []
  }
 ],
 "metadata": {
  "kernelspec": {
   "display_name": "Python 3",
   "language": "python",
   "name": "python3"
  },
  "language_info": {
   "codemirror_mode": {
    "name": "ipython",
    "version": 3
   },
   "file_extension": ".py",
   "mimetype": "text/x-python",
   "name": "python",
   "nbconvert_exporter": "python",
   "pygments_lexer": "ipython3",
   "version": "3.7.6"
  }
 },
 "nbformat": 4,
 "nbformat_minor": 5
}
